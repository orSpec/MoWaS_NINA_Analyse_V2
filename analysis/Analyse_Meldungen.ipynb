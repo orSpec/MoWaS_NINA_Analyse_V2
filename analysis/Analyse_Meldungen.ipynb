{
 "cells": [
  {
   "cell_type": "markdown",
   "metadata": {},
   "source": [
    "# Analyse der MoWaS-Meldungen an NINA V2.0\n",
    "Motiviert durch den [bundesweiten Warntag 2020](https://warnung-der-bevoelkerung.de/) kam die Idee auf, zu analysieren, welche Meldungen durch [MoWaS](https://www.bbk.bund.de/DE/AufgabenundAusstattung/Krisenmanagement/WarnungderBevoelkerung/MoWaS/ModularesWarnsystem_node.html) (Modulares Warnsystem) an die Warn-App [NINA](https://www.bbk.bund.de/DE/NINA/Warn-App_NINA_node.html) gesendet wurden. Eine erste Analyse wurden basierend auf Daten vom Bundesamt für Bevölkerungsschutz und Katastrophenhilfe (PDF-Datei mit Warnmeldungen zwischen 2014 und 2017, Datei aus einer [Anfrage](https://fragdenstaat.de/anfrage/ubersicht-uber-warnmeldungen-des-bevolkerungsschutzes-mithilfe-der-app-nina/)) durchgeführt.\n",
    "\n",
    "Ganz frisch wurden durch das Bundesamt für Bevölkerungsschutz und Katastrophenhilfe neue Daten zur Verfügung gestellt. Die Daten umfassen die Jahre 2015 - 2020 und sind auf [FragDenStaat](https://fragdenstaat.de/anfrage/warnmeldungen-uber-die-warn-app-nina/) frei zugänglich. Diese neuen Daten sollen hier nun analysiert werden."
   ]
  },
  {
   "cell_type": "markdown",
   "metadata": {},
   "source": [
    "### Import der benötigten Module"
   ]
  },
  {
   "cell_type": "code",
   "execution_count": 54,
   "metadata": {},
   "outputs": [],
   "source": [
    "import pandas as pd\n",
    "import numpy as np\n",
    "import matplotlib.pyplot as plt\n",
    "import seaborn as sns\n",
    "%matplotlib inline\n",
    "\n",
    "import re\n",
    "\n",
    "from geopy.geocoders import Nominatim\n",
    "from geopy.extra.rate_limiter import RateLimiter\n",
    "\n",
    "import folium\n",
    "from folium import plugins"
   ]
  },
  {
   "cell_type": "markdown",
   "metadata": {},
   "source": [
    "### Datenimport\n",
    "Alle Sheets der Excel-Datei werden in ein Dictionary geladen."
   ]
  },
  {
   "cell_type": "code",
   "execution_count": 2,
   "metadata": {},
   "outputs": [],
   "source": [
    "df_sheet_map = pd.read_excel(\"../data/Warnmeldungen.xls\", sheet_name=None,dtype={\"Datum\":str})"
   ]
  },
  {
   "cell_type": "markdown",
   "metadata": {},
   "source": [
    "Insgesamt wurden acht Sheets eingelesen."
   ]
  },
  {
   "cell_type": "code",
   "execution_count": 3,
   "metadata": {},
   "outputs": [
    {
     "data": {
      "text/plain": [
       "dict_keys(['2015', '2016', '2017', '2018', '2019', '2020', 'Tabelle2', 'Tabelle1'])"
      ]
     },
     "execution_count": 3,
     "metadata": {},
     "output_type": "execute_result"
    }
   ],
   "source": [
    "df_sheet_map.keys()"
   ]
  },
  {
   "cell_type": "markdown",
   "metadata": {},
   "source": [
    "Zwei davon enthalten keine Daten und können deshalb entfernt werden."
   ]
  },
  {
   "cell_type": "code",
   "execution_count": 4,
   "metadata": {},
   "outputs": [
    {
     "data": {
      "text/html": [
       "<div>\n",
       "<style scoped>\n",
       "    .dataframe tbody tr th:only-of-type {\n",
       "        vertical-align: middle;\n",
       "    }\n",
       "\n",
       "    .dataframe tbody tr th {\n",
       "        vertical-align: top;\n",
       "    }\n",
       "\n",
       "    .dataframe thead th {\n",
       "        text-align: right;\n",
       "    }\n",
       "</style>\n",
       "<table border=\"1\" class=\"dataframe\">\n",
       "  <thead>\n",
       "    <tr style=\"text-align: right;\">\n",
       "      <th></th>\n",
       "    </tr>\n",
       "  </thead>\n",
       "  <tbody>\n",
       "  </tbody>\n",
       "</table>\n",
       "</div>"
      ],
      "text/plain": [
       "Empty DataFrame\n",
       "Columns: []\n",
       "Index: []"
      ]
     },
     "execution_count": 4,
     "metadata": {},
     "output_type": "execute_result"
    }
   ],
   "source": [
    "df_sheet_map.pop(\"Tabelle2\")\n",
    "df_sheet_map.pop(\"Tabelle1\")"
   ]
  },
  {
   "cell_type": "markdown",
   "metadata": {},
   "source": [
    "Alle Sheets können nun in einem Pandas DataFrame zusammengepackt werden."
   ]
  },
  {
   "cell_type": "code",
   "execution_count": 5,
   "metadata": {},
   "outputs": [],
   "source": [
    "df = pd.concat(df_sheet_map)"
   ]
  },
  {
   "cell_type": "markdown",
   "metadata": {},
   "source": [
    "Der Sheetname ist der Index im DataFrame. Wir setzen den Index zurück und benennen die Spalte neu."
   ]
  },
  {
   "cell_type": "code",
   "execution_count": 6,
   "metadata": {},
   "outputs": [],
   "source": [
    "df = df.reset_index()\n",
    "\n",
    "df.drop(\"level_1\",axis=1,inplace=True)\n",
    "df.rename(columns={\"level_0\" : \"Jahr\"},inplace=True)"
   ]
  },
  {
   "cell_type": "markdown",
   "metadata": {},
   "source": [
    "Der DateFrame enthält ingesamt neun Spalten."
   ]
  },
  {
   "cell_type": "code",
   "execution_count": 7,
   "metadata": {},
   "outputs": [
    {
     "name": "stdout",
     "output_type": "stream",
     "text": [
      "<class 'pandas.core.frame.DataFrame'>\n",
      "RangeIndex: 3546 entries, 0 to 3545\n",
      "Data columns (total 9 columns):\n",
      " #   Column          Non-Null Count  Dtype \n",
      "---  ------          --------------  ----- \n",
      " 0   Jahr            3546 non-null   object\n",
      " 1   Datum           3546 non-null   object\n",
      " 2   Station         3546 non-null   object\n",
      " 3   Warnstufe       3541 non-null   object\n",
      " 4   App             14 non-null     object\n",
      " 5   Anlass          3546 non-null   object\n",
      " 6   Land            3387 non-null   object\n",
      " 7   Aktualisierung  353 non-null    object\n",
      " 8   Kategorie       2164 non-null   object\n",
      "dtypes: object(9)\n",
      "memory usage: 249.5+ KB\n"
     ]
    }
   ],
   "source": [
    "df.info()"
   ]
  },
  {
   "cell_type": "markdown",
   "metadata": {},
   "source": [
    "Die Spalte *App* enthält nur 14 Einträge ungleich Null. Deshalb wird die Spalte entfernt."
   ]
  },
  {
   "cell_type": "code",
   "execution_count": 8,
   "metadata": {},
   "outputs": [],
   "source": [
    "df.drop([\"App\", \"Aktualisierung\"],axis=1,inplace=True)"
   ]
  },
  {
   "cell_type": "markdown",
   "metadata": {},
   "source": [
    "### Datenaufbereitung"
   ]
  },
  {
   "cell_type": "code",
   "execution_count": 9,
   "metadata": {},
   "outputs": [
    {
     "data": {
      "text/html": [
       "<div>\n",
       "<style scoped>\n",
       "    .dataframe tbody tr th:only-of-type {\n",
       "        vertical-align: middle;\n",
       "    }\n",
       "\n",
       "    .dataframe tbody tr th {\n",
       "        vertical-align: top;\n",
       "    }\n",
       "\n",
       "    .dataframe thead th {\n",
       "        text-align: right;\n",
       "    }\n",
       "</style>\n",
       "<table border=\"1\" class=\"dataframe\">\n",
       "  <thead>\n",
       "    <tr style=\"text-align: right;\">\n",
       "      <th></th>\n",
       "      <th>Jahr</th>\n",
       "      <th>Datum</th>\n",
       "      <th>Station</th>\n",
       "      <th>Warnstufe</th>\n",
       "      <th>Anlass</th>\n",
       "      <th>Land</th>\n",
       "      <th>Kategorie</th>\n",
       "    </tr>\n",
       "  </thead>\n",
       "  <tbody>\n",
       "    <tr>\n",
       "      <th>0</th>\n",
       "      <td>2015</td>\n",
       "      <td>2015-06-12 00:00:00</td>\n",
       "      <td>Warnzentrale</td>\n",
       "      <td>3, niedrig</td>\n",
       "      <td>Unwetter</td>\n",
       "      <td>NaN</td>\n",
       "      <td>NaN</td>\n",
       "    </tr>\n",
       "    <tr>\n",
       "      <th>1</th>\n",
       "      <td>2015</td>\n",
       "      <td>2015-07-25 00:00:00</td>\n",
       "      <td>ZSVerbSt KA</td>\n",
       "      <td>2, mittel</td>\n",
       "      <td>Unwetter</td>\n",
       "      <td>NaN</td>\n",
       "      <td>NaN</td>\n",
       "    </tr>\n",
       "    <tr>\n",
       "      <th>2</th>\n",
       "      <td>2015</td>\n",
       "      <td>2015-08-10 00:00:00</td>\n",
       "      <td>Düsseldorf</td>\n",
       "      <td>3, niedrig</td>\n",
       "      <td>Bombenentschärfung</td>\n",
       "      <td>NaN</td>\n",
       "      <td>NaN</td>\n",
       "    </tr>\n",
       "    <tr>\n",
       "      <th>3</th>\n",
       "      <td>2015</td>\n",
       "      <td>2015-08-12 00:00:00</td>\n",
       "      <td>Düsseldorf</td>\n",
       "      <td>3, niedrig</td>\n",
       "      <td>Bombenentschärfung</td>\n",
       "      <td>NaN</td>\n",
       "      <td>NaN</td>\n",
       "    </tr>\n",
       "    <tr>\n",
       "      <th>4</th>\n",
       "      <td>2015</td>\n",
       "      <td>2015-08-25 00:00:00</td>\n",
       "      <td>Kleve</td>\n",
       "      <td>3, niedrig</td>\n",
       "      <td>Bombenentschärfung</td>\n",
       "      <td>NaN</td>\n",
       "      <td>NaN</td>\n",
       "    </tr>\n",
       "  </tbody>\n",
       "</table>\n",
       "</div>"
      ],
      "text/plain": [
       "   Jahr                Datum       Station   Warnstufe              Anlass  \\\n",
       "0  2015  2015-06-12 00:00:00  Warnzentrale  3, niedrig            Unwetter   \n",
       "1  2015  2015-07-25 00:00:00   ZSVerbSt KA   2, mittel            Unwetter   \n",
       "2  2015  2015-08-10 00:00:00    Düsseldorf  3, niedrig  Bombenentschärfung   \n",
       "3  2015  2015-08-12 00:00:00    Düsseldorf  3, niedrig  Bombenentschärfung   \n",
       "4  2015  2015-08-25 00:00:00         Kleve  3, niedrig  Bombenentschärfung   \n",
       "\n",
       "  Land Kategorie  \n",
       "0  NaN       NaN  \n",
       "1  NaN       NaN  \n",
       "2  NaN       NaN  \n",
       "3  NaN       NaN  \n",
       "4  NaN       NaN  "
      ]
     },
     "execution_count": 9,
     "metadata": {},
     "output_type": "execute_result"
    }
   ],
   "source": [
    "df.head()"
   ]
  },
  {
   "cell_type": "markdown",
   "metadata": {},
   "source": [
    "Die Spalte *Warnstufe* enthält die Bezeichnung der Warnstufe und eine numerische Kodierung. Wir treffen die Information auf in zwei separate Spalten:"
   ]
  },
  {
   "cell_type": "code",
   "execution_count": 10,
   "metadata": {},
   "outputs": [],
   "source": [
    "df[[\"Warnstufe\", \"Warnstufe_Bezeichnung\"]] =  df[\"Warnstufe\"].str.split(\",\",expand=True)"
   ]
  },
  {
   "cell_type": "markdown",
   "metadata": {},
   "source": [
    "Die Spalte *Datum* enthält Einträge mit unterschiedlichen Syntaxen. Es existieren Einträge wie \"2015-06-12\" mit Angabe des Jahres, aber auch Einträge der Art \"30.06.\" In letzterem Fall muss die Information zum Jahr aus der Spalte *Jahr* extrahiert werden, welche aus dem Name des Excel-Sheets generiert wurde, aus welchem die jeweiligen Daten stammen."
   ]
  },
  {
   "cell_type": "code",
   "execution_count": 11,
   "metadata": {},
   "outputs": [
    {
     "data": {
      "text/plain": [
       "array(['2015-06-12 00:00:00', '2015-07-25 00:00:00',\n",
       "       '2015-08-10 00:00:00', '2015-08-12 00:00:00',\n",
       "       '2015-08-25 00:00:00', '2015-09-09 00:00:00',\n",
       "       '2015-09-30 00:00:00', '2015-11-02 00:00:00',\n",
       "       '2015-11-06 00:00:00', '2015-11-13 00:00:00',\n",
       "       '2015-11-30 00:00:00', '2015-12-04 00:00:00',\n",
       "       '2015-12-31 00:00:00', '2016-01-08 00:00:00',\n",
       "       '2016-01-12 00:00:00', '2016-01-14 00:00:00',\n",
       "       '2016-01-21 00:00:00', '2016-02-02 00:00:00',\n",
       "       '2016-02-03 00:00:00', '2016-02-11 00:00:00',\n",
       "       '2016-02-16 00:00:00', '2016-02-18 00:00:00',\n",
       "       '2016-02-25 00:00:00', '2016-02-26 00:00:00',\n",
       "       '2016-03-01 00:00:00', '2016-03-02 00:00:00',\n",
       "       '2016-03-03 00:00:00', '2016-04-02 00:00:00',\n",
       "       '2016-04-07 00:00:00', '2016-04-13 00:00:00',\n",
       "       '2016-04-14 00:00:00', '2016-04-27 00:00:00',\n",
       "       '2016-04-29 00:00:00', '2016-05-02 00:00:00',\n",
       "       '2016-05-04 00:00:00', '2016-05-11 00:00:00',\n",
       "       '2016-05-12 00:00:00', '2016-05-31 00:00:00',\n",
       "       '2016-06-02 00:00:00', '2016-06-07 00:00:00',\n",
       "       '2016-06-16 00:00:00', '31.06.2016', '2016-07-07 00:00:00',\n",
       "       '2016-07-09 00:00:00', '2016-07-11 00:00:00',\n",
       "       '2016-07-12 00:00:00', '2016-07-15 00:00:00',\n",
       "       '2016-07-18 00:00:00', '2016-07-19 00:00:00',\n",
       "       '2016-07-21 00:00:00', '2016-07-23 00:00:00',\n",
       "       '2016-07-25 00:00:00', '2016-07-26 00:00:00',\n",
       "       '2016-07-28 00:00:00', '2016-08-01 00:00:00',\n",
       "       '2016-08-02 00:00:00', '2016-08-03 00:00:00',\n",
       "       '2016-08-05 00:00:00', '2016-08-08 00:00:00',\n",
       "       '2016-08-09 00:00:00', '2016-08-10 00:00:00',\n",
       "       '2016-08-18 00:00:00', '2016-08-19 00:00:00',\n",
       "       '2016-08-25 00:00:00', '2016-08-27 00:00:00',\n",
       "       '2016-08-28 00:00:00', '2016-08-30 00:00:00',\n",
       "       '2016-08-31 00:00:00', '2016-09-05 00:00:00',\n",
       "       '2016-09-06 00:00:00', '2016-09-07 00:00:00',\n",
       "       '2016-09-09 00:00:00', '2016-09-12 00:00:00',\n",
       "       '2016-09-13 00:00:00', '2016-09-14 00:00:00',\n",
       "       '2016-09-15 00:00:00', '2016-09-19 00:00:00',\n",
       "       '2016-09-21 00:00:00', '2016-09-29 00:00:00',\n",
       "       '2016-09-30 00:00:00', '2016-10-01 00:00:00',\n",
       "       '2016-10-05 00:00:00', '2016-10-08 00:00:00',\n",
       "       '2016-10-11 00:00:00', '2016-10-13 00:00:00',\n",
       "       '2016-10-17 00:00:00', '2016-10-18 00:00:00',\n",
       "       '2016-10-19 00:00:00', '2016-10-20 00:00:00',\n",
       "       '2016-10-23 00:00:00', '2016-10-25 00:00:00',\n",
       "       '2016-11-02 00:00:00', '2016-11-03 00:00:00',\n",
       "       '2016-11-05 00:00:00', '2016-11-07 00:00:00',\n",
       "       '2016-11-08 00:00:00', '2016-11-10 00:00:00',\n",
       "       '2016-11-12 00:00:00', '2016-11-15 00:00:00',\n",
       "       '2016-11-17 00:00:00', '2016-11-18 00:00:00',\n",
       "       '2016-11-27 00:00:00', '2016-11-29 00:00:00',\n",
       "       '2016-11-30 00:00:00', '2016-12-01 00:00:00',\n",
       "       '2016-12-02 00:00:00', '2016-12-03 00:00:00',\n",
       "       '2016-12-06 00:00:00', '2016-12-07 00:00:00',\n",
       "       '2016-12-08 00:00:00', '2016-12-09 00:00:00',\n",
       "       '2016-12-10 00:00:00', '2016-12-14 00:00:00',\n",
       "       '2016-12-15 00:00:00', '2016-12-19 00:00:00',\n",
       "       '2016-12-21 00:00:00', '2016-12-27 00:00:00',\n",
       "       '2016-12-28 00:00:00', '2016-12-29 00:00:00',\n",
       "       '2016-12-30 00:00:00', '2017-01-01 00:00:00',\n",
       "       '2017-01-04 00:00:00', '2017-01-05 00:00:00',\n",
       "       '2017-01-07 00:00:00', '2017-01-11 00:00:00',\n",
       "       '2017-01-12 00:00:00', '2017-01-14 00:00:00',\n",
       "       '2017-01-17 00:00:00', '2017-01-19 00:00:00',\n",
       "       '2017-01-22 00:00:00', '2017-01-25 00:00:00',\n",
       "       '2017-01-26 00:00:00', '2017-02-01 00:00:00',\n",
       "       '2017-02-03 00:00:00', '2017-02-08 00:00:00',\n",
       "       '2017-02-09 00:00:00', '2017-02-15 00:00:00',\n",
       "       '2017-02-16 00:00:00', '2017-02-20 00:00:00',\n",
       "       '2017-02-23 00:00:00', '2017-02-25 00:00:00',\n",
       "       '2017-03-01 00:00:00', '2017-03-04 00:00:00',\n",
       "       '2017-03-09 00:00:00', '2017-03-10 00:00:00',\n",
       "       '2017-03-12 00:00:00', '2017-03-13 00:00:00',\n",
       "       '2017-03-14 00:00:00', '2017-03-15 00:00:00',\n",
       "       '2017-03-17 00:00:00', '2017-03-22 00:00:00',\n",
       "       '2017-03-23 00:00:00', '2017-03-25 00:00:00', '25.03..2017',\n",
       "       '2017-03-26 00:00:00', '2017-03-27 00:00:00',\n",
       "       '2017-03-29 00:00:00', '2017-04-01 00:00:00',\n",
       "       '2017-04-04 00:00:00', '2017-04-05 00:00:00',\n",
       "       '2017-04-06 00:00:00', '2017-04-07 00:00:00',\n",
       "       '2017-04-08 00:00:00', '2014-04-08 00:00:00',\n",
       "       '2017-04-12 00:00:00', '2017-04-14 00:00:00',\n",
       "       '2017-04-15 00:00:00', '2017-04-18 00:00:00',\n",
       "       '2017-04-19 00:00:00', '2017-04-21 00:00:00',\n",
       "       '2017-04-24 00:00:00', '2017-04-25 00:00:00',\n",
       "       '2017-04-27 00:00:00', '2017-04-29 00:00:00',\n",
       "       '2017-05-01 00:00:00', '2017-05-02 00:00:00',\n",
       "       '2017-05-03 00:00:00', '2017-05-04 00:00:00',\n",
       "       '2017-05-05 00:00:00', '2017-05-06 00:00:00',\n",
       "       '2017-05-08 00:00:00', '2017-05-09 00:00:00',\n",
       "       '2017-05-10 00:00:00', '2017-05-11 00:00:00',\n",
       "       '2017-05-13 00:00:00', '2017-05-16 00:00:00',\n",
       "       '2017-05-18 00:00:00', '2017-05-22 00:00:00',\n",
       "       '2017-05-25 00:00:00', '2017-05-29 00:00:00',\n",
       "       '2017-05-30 00:00:00', '2017-05-31 00:00:00',\n",
       "       '2017-06-01 00:00:00', '2017-06-03 00:00:00',\n",
       "       '2017-06-06 00:00:00', '2017-06-09 00:00:00',\n",
       "       '2017-06-12 00:00:00', '2017-06-14 00:00:00',\n",
       "       '2017-06-17 00:00:00', '2017-06-21 00:00:00',\n",
       "       '2017-06-22 00:00:00', '2017-06-23 00:00:00',\n",
       "       '2017-06-24 00:00:00', '2017-06-26 00:00:00',\n",
       "       '2017-06-29 00:00:00', '2017-07-01 00:00:00',\n",
       "       '2017-07-03 00:00:00', '2017-07-04 00:00:00',\n",
       "       '2017-07-05 00:00:00', '2017-07-06 00:00:00',\n",
       "       '2017-07-07 00:00:00', '2017-07-08 00:00:00',\n",
       "       '2017-07-10 00:00:00', '2017-07-11 00:00:00',\n",
       "       '2017-07-19 00:00:00', '2017-07-20 00:00:00',\n",
       "       '2017-07-24 00:00:00', '2017-07-25 00:00:00',\n",
       "       '2017-07-26 00:00:00', '2017-07-27 00:00:00',\n",
       "       '2017-07-28 00:00:00', '2017-07-30 00:00:00',\n",
       "       '2017-07-31 00:00:00', '2017-08-02 00:00:00',\n",
       "       '2017-08-05 00:00:00', '2017-08-07 00:00:00',\n",
       "       '2017-08-08 00:00:00', '2017-08-10 00:00:00',\n",
       "       '2017-08-14 00:00:00', '2017-08-15 00:00:00',\n",
       "       '2017-08-16 00:00:00', '2017-08-17 00:00:00',\n",
       "       '2017-08-18 00:00:00', '2017-08-20 00:00:00',\n",
       "       '2017-08-21 00:00:00', '2017-08-22 00:00:00',\n",
       "       '2017-08-25 00:00:00', '2017-08-28 00:00:00',\n",
       "       '2017-08-30 00:00:00', '2017-08-31 00:00:00',\n",
       "       '2017-09-02 00:00:00', '2017-09-03 00:00:00',\n",
       "       '2017-09-04 00:00:00', '2017-09-06 00:00:00',\n",
       "       '2017-09-07 00:00:00', '2017-09-09 00:00:00',\n",
       "       '2017-09-11 00:00:00', '2017-09-12 00:00:00',\n",
       "       '2017-09-13 00:00:00', '2017-09-14 00:00:00',\n",
       "       '2017-09-15 00:00:00', '2017-09-16 00:00:00',\n",
       "       '2017-09-20 00:00:00', '2017-09-21 00:00:00',\n",
       "       '2017-09-22 00:00:00', '2017-09-23 00:00:00',\n",
       "       '2017-09-24 00:00:00', '2017-09-26 00:00:00',\n",
       "       '2017-09-28 00:00:00', '2017-10-04 00:00:00',\n",
       "       '2017-10-03 00:00:00', '2017-10-05 00:00:00',\n",
       "       '2017-10-06 00:00:00', '2017-10-07 00:00:00',\n",
       "       '2017-10-12 00:00:00', '2017-10-14 00:00:00',\n",
       "       '2017-10-15 00:00:00', '2017-10-16 00:00:00',\n",
       "       '2017-10-17 00:00:00', '2017-10-18 00:00:00',\n",
       "       '2017-10-19 00:00:00', '2017-10-20 00:00:00',\n",
       "       '2017-10-25 00:00:00', '2017-10-26 00:00:00',\n",
       "       '2017-10-27 00:00:00', '2017-10-28 00:00:00',\n",
       "       '2017-10-29 00:00:00', '2017-11-01 00:00:00',\n",
       "       '2017-11-02 00:00:00', '2017-11-03 00:00:00',\n",
       "       '2017-11-04 00:00:00', '2017-11-06 00:00:00',\n",
       "       '2017-11-08 00:00:00', '2017-11-09 00:00:00',\n",
       "       '2017-11-10 00:00:00', '2017-11-12 00:00:00',\n",
       "       '2017-11-13 00:00:00', '2017-11-16 00:00:00',\n",
       "       '2017-11-19 00:00:00', '2017-11-20 00:00:00',\n",
       "       '2017-11-24 00:00:00', '2017-11-27 00:00:00',\n",
       "       '2017-11-28 00:00:00', '2017-11-30 00:00:00',\n",
       "       '2017-12-01 00:00:00', '2017-12-02 00:00:00',\n",
       "       '2017-12-04 00:00:00', '2017-12-06 00:00:00',\n",
       "       '2017-12-07 00:00:00', '2017-12-08 00:00:00',\n",
       "       '2017-12-11 00:00:00', '2017-12-12 00:00:00',\n",
       "       '2017-12-14 00:00:00', '2017-12-15 00:00:00',\n",
       "       '2017-12-19 00:00:00', '2017-12-20 00:00:00',\n",
       "       '2017-12-21 00:00:00', '2017-12-24 00:00:00',\n",
       "       '2017-12-26 00:00:00', '2017-12-27 00:00:00',\n",
       "       '2017-12-29 00:00:00', '2018-01-01 00:00:00', '01.01.', '03.01.',\n",
       "       '04.01.', '05.01.', '06.01.', '08.01.', '09.01.', '10.01.',\n",
       "       '11.01.', '13.01.', '15.01.', '16.01.', '17.01.', '18.01.',\n",
       "       '19.01.', '20.01.', '21.01.', '22.02.', '24.01.', '25.01.',\n",
       "       '26.01.', '30.01.', '31.01.', '01.02.', '02.02.', '03.02.',\n",
       "       '05.02.', '06.02.', '07.02.', '10.02.', '12.02.', '14.02.',\n",
       "       '15.02.', '16.02.', '16.-19.02.', '19.02.', '20.02.', '21.02.',\n",
       "       '24.02.', '26.02.', '27.02.', '28.02.', '02.03.', '03.03.',\n",
       "       '06.03.', '07.03.', '09.03.', '10.03.', '12.03.', '13.03.',\n",
       "       '14.03.', '15.03.', '16.03.', '17.03.', '18.03.', '19.03.',\n",
       "       '21.03.', '22.03.', '24.03.', '26.03.', '27.03.', '28.03.',\n",
       "       '29.03.', '03.04.', '04.04.', '05.04.', '06.04.', '07.04.',\n",
       "       '08.04.', '09.04.', '10.04.', '11.04.', '12.04. ', '13.04.',\n",
       "       '14.04.', '15.04.', '16.04.', '17.04.', '18.04.', '19.04.',\n",
       "       '20.04.', '22.04.', '23.04.', '25.04.', '26.04.', '27.04.',\n",
       "       '30.04.', '02.05.', '03.05.', '04.05.', '05.05.', '06.05.',\n",
       "       '07.05.', '08.05.', '09.05.', '10.05.', '11.05.', '13.05.',\n",
       "       '16.05.', '17.05.', '17.05. ', '18.05.', '19.05.', '20.05.',\n",
       "       '22.05.', '23.05.', '24.05.', '25.05.', '26.05.', '28.05.',\n",
       "       '29.05.', '30.05.', '31.05.', '31.05. ', '01.06.', '02.06.',\n",
       "       '03.06.', '04.06.', '05.06.', '06.06.', '07.06.', '08.06.',\n",
       "       '09.06.', '12.06.', '13.06.', '14.06.', '15.06.', '16.06.',\n",
       "       '19.06.', '20.06.', '21.06.', '22.06.', '25.06.', '26.06.',\n",
       "       '27.06.', '29.06.', '30.06.', '01.07.', '02.07.', '03.07.',\n",
       "       '04.07.', '05.07.', '06.07.', '07.07.', '08.07.', '09.07.',\n",
       "       '10.07.', '11.07.', '13.07.', '14.07.', '15.07.', '16.07.',\n",
       "       '17.07.', '18.07.', '19.07.', '20.07.', '21.07.', '23.07.',\n",
       "       '24.07.', '25.07.', '26.07.', '27.07.', '28.07.', '29.07.',\n",
       "       '30.07.', '31.07.', '01.08.', '02.08.', '03.08.', '04.08.',\n",
       "       '05.08.', '06.08.', '07.08.', '08.08.', '09.08.', '10.08.',\n",
       "       '11.08.', '12.08.', '13.08.', '14.08.', '15.08.', '16.08.',\n",
       "       '17.08.', '18.08.', '19.08.', '20.08.', '22.08.', '23.08.',\n",
       "       '24.08.', '25.08.', '26.08.', '27.08.', '28.08.', '29.08.',\n",
       "       '30.08.', '01.09.', '03.09.', '04.09.', '05.09.', '06.09.',\n",
       "       '07.09.', '08.09.', '09.09.', '10.09.', '11.09.', '12.09.',\n",
       "       '13.09.', '14.09.', '15.09.', '17.09.', '18.09.', '19.09.',\n",
       "       '20.09.', '21.09.', '22.09.', '23.09.', '24.09.', '25.09.',\n",
       "       '26.09.', '27.09.', '29.09.', '01.10.', '03.10.', '04.10.',\n",
       "       '05.10.', '06.10.', '07.10.', '08.10.', '09.10.', '11.10.',\n",
       "       '12.10.', '13.10.', '14.10.', '15.10.', '16.10.', '17.10.',\n",
       "       '18.10.', '19.10.', '20.10.', '22.10.', '23.10.', '24.10.',\n",
       "       '25.10.', '27.10.', '30.10.', '31.10.', '02.11.', '03.11.',\n",
       "       '04.11.', '05.11.', '06.11.', '07.11.', '08.11.', '09.11.',\n",
       "       '10.11.', '11.11.', '12.11.', '13.11.', '14.11.', '16.11.',\n",
       "       '17.11.', '20.11.', '21.11.', '24.11.', '26.11.', '27.11.',\n",
       "       '28.11.', '29.11.', '30.11.', '01.12.', '02.12.', '03.12.',\n",
       "       '04.12.', '05.12.', '06.12.', '07.12.', '08.12.', '10.12.',\n",
       "       '11.12.', '12.12.', '13.12.', '14.12.', '15.12.', '17.12.',\n",
       "       '18.12.', '19.12.', '21.12.', '22.12.', '23.12.', '24.12.',\n",
       "       '25.12.', '28.12.', '31.12.', '2018-12-31 00:00:00',\n",
       "       '2019-01-01 00:00:00', '02.01.', '05.01. ', '07.01.', '12.01.',\n",
       "       '16.01. ', '22.01.', '23.01.', '27.01.', '28.01.', '29.01.',\n",
       "       '04.02.', '08.02.', '09.02.', '11.02.', '13.02.', '17.02.',\n",
       "       '18.02.', '25.02.', '04.03.', '05.03.', '08.03.', '11.03.',\n",
       "       '20.03.', '23.03.', '25.03.', '30.03.', '1104.', '12.04.',\n",
       "       '24.04.', '28.04.', '29.04.', '14.05.', '15.05.', '21.05.',\n",
       "       '27.05.', '10.06.', '11.06.', '17.06.', '18.06.', '23.06.',\n",
       "       '24.06.', '28.06.', '12.07.', '16.07. ', '22.07.', '21.08.',\n",
       "       '31.08.', '02.09.', '16.09.', '28.09.', '30.09.', '10.10.',\n",
       "       '21.10.', '26.10.', '29.10.', '18.11.', '22.11.', '23.11.',\n",
       "       '25.11.', '16.12.', '27.12.', '29.12.', '2019-12-31 00:00:00',\n",
       "       '2020-01-01 00:00:00', '14.01.', '16.0.2', '23.02.', '29.02.',\n",
       "       '01.03.', '28.03. ', '31.03.', '01.04.', '02.04.', '19.04..',\n",
       "       '21.04.', '01.05.', '12.05.', '01.06. ', '16.07..', '02.10.',\n",
       "       '28.10.', '2020-11-11 00:00:00'], dtype=object)"
      ]
     },
     "execution_count": 11,
     "metadata": {},
     "output_type": "execute_result"
    }
   ],
   "source": [
    "df[\"Datum\"].unique()"
   ]
  },
  {
   "cell_type": "markdown",
   "metadata": {},
   "source": [
    "Um aus den unterschiedlich strukturierten Datumsinformationen für jede Warnmeldung das tatsächliche Datum zu konstruieren, wird folgende Methode benutzt. Ist das Datum schon im passenden Format, wird aus dem String direkt ein Pandas Timestamp erstellt. Falls das Jahr fehlt, wird ein neuer Datums-String gebaut und dann umgewandelt."
   ]
  },
  {
   "cell_type": "code",
   "execution_count": 12,
   "metadata": {},
   "outputs": [],
   "source": [
    "def constructDate(row):\n",
    "    datum = row[\"Datum\"]\n",
    "    jahr = row[\"Jahr\"]\n",
    "    \n",
    "    if \"-\" in datum and len(datum.split(\"-\")) == 3:\n",
    "        return pd.to_datetime(datum)\n",
    "    else:\n",
    "        split = datum.split(\".\")\n",
    "        tmp = jahr + \"-\" + split[1] + \"-\" + split[0]\n",
    "        try:\n",
    "            out = pd.to_datetime(tmp)\n",
    "            return out\n",
    "        except:\n",
    "            return None\n",
    "         "
   ]
  },
  {
   "cell_type": "code",
   "execution_count": 13,
   "metadata": {},
   "outputs": [],
   "source": [
    "df[\"Datum\"] = df.apply(constructDate,axis=1)"
   ]
  },
  {
   "cell_type": "markdown",
   "metadata": {},
   "source": [
    "Zeilen, für welche auf die oben beschriebene Art kein Datum gebildet werden konnte, werden gedroppt."
   ]
  },
  {
   "cell_type": "code",
   "execution_count": 14,
   "metadata": {},
   "outputs": [],
   "source": [
    "df.dropna(subset=[\"Datum\"],inplace=True)"
   ]
  },
  {
   "cell_type": "markdown",
   "metadata": {},
   "source": [
    "Die beiden Spalten *Warnstufe* und *Jahr* werden zu numerischen Spalten umgewandelt."
   ]
  },
  {
   "cell_type": "code",
   "execution_count": 76,
   "metadata": {},
   "outputs": [],
   "source": [
    "df[\"Warnstufe\"] = pd.to_numeric(df[\"Warnstufe\"])\n",
    "df[\"Jahr\"] = pd.to_numeric(df[\"Jahr\"])"
   ]
  },
  {
   "cell_type": "markdown",
   "metadata": {},
   "source": [
    "Zum Überprüfen der Umwandlung des Datums schauen wir uns an, ob das Jahr des erzeugten Datums mit dem Datenjahr (Excel-Sheetname) übereinstimmt. In einem Fall ist dies nicht so:"
   ]
  },
  {
   "cell_type": "code",
   "execution_count": 23,
   "metadata": {},
   "outputs": [
    {
     "data": {
      "text/html": [
       "<div>\n",
       "<style scoped>\n",
       "    .dataframe tbody tr th:only-of-type {\n",
       "        vertical-align: middle;\n",
       "    }\n",
       "\n",
       "    .dataframe tbody tr th {\n",
       "        vertical-align: top;\n",
       "    }\n",
       "\n",
       "    .dataframe thead th {\n",
       "        text-align: right;\n",
       "    }\n",
       "</style>\n",
       "<table border=\"1\" class=\"dataframe\">\n",
       "  <thead>\n",
       "    <tr style=\"text-align: right;\">\n",
       "      <th></th>\n",
       "      <th>Jahr</th>\n",
       "      <th>Datum</th>\n",
       "      <th>Station</th>\n",
       "      <th>Warnstufe</th>\n",
       "      <th>Anlass</th>\n",
       "      <th>Land</th>\n",
       "      <th>Kategorie</th>\n",
       "      <th>Warnstufe_Bezeichnung</th>\n",
       "    </tr>\n",
       "  </thead>\n",
       "  <tbody>\n",
       "    <tr>\n",
       "      <th>246</th>\n",
       "      <td>2017</td>\n",
       "      <td>2014-04-08</td>\n",
       "      <td>Kreis Düren, Amt f. Bev.-schutz S054</td>\n",
       "      <td>3.0</td>\n",
       "      <td>kreisweiter Sirenenprobealarm im Kreis Düren</td>\n",
       "      <td>NRW</td>\n",
       "      <td>NaN</td>\n",
       "      <td>niedrig</td>\n",
       "    </tr>\n",
       "  </tbody>\n",
       "</table>\n",
       "</div>"
      ],
      "text/plain": [
       "     Jahr      Datum                               Station  Warnstufe  \\\n",
       "246  2017 2014-04-08  Kreis Düren, Amt f. Bev.-schutz S054        3.0   \n",
       "\n",
       "                                           Anlass Land Kategorie  \\\n",
       "246  kreisweiter Sirenenprobealarm im Kreis Düren  NRW       NaN   \n",
       "\n",
       "    Warnstufe_Bezeichnung  \n",
       "246               niedrig  "
      ]
     },
     "execution_count": 23,
     "metadata": {},
     "output_type": "execute_result"
    }
   ],
   "source": [
    "df[df[\"Datum\"].dt.year != df[\"Jahr\"]]"
   ]
  },
  {
   "cell_type": "markdown",
   "metadata": {},
   "source": [
    "Diese eine Zeile wird aus der Analyse ausgeklammert."
   ]
  },
  {
   "cell_type": "code",
   "execution_count": 24,
   "metadata": {},
   "outputs": [],
   "source": [
    "df = df[df[\"Datum\"].dt.year == df[\"Jahr\"]]"
   ]
  },
  {
   "cell_type": "markdown",
   "metadata": {},
   "source": [
    "Wir fügen basierend auf dem Datum noch den Monat sowie den Wochentag hinzu:"
   ]
  },
  {
   "cell_type": "code",
   "execution_count": 25,
   "metadata": {},
   "outputs": [],
   "source": [
    "df[\"Monat\"] = df[\"Datum\"].dt.month\n",
    "df[\"Wochentag\"] = df[\"Datum\"].dt.weekday\n",
    "df[\"Wochentag_Text\"] = df[\"Datum\"].dt.day_name(locale ='de_DE.utf8')"
   ]
  },
  {
   "cell_type": "markdown",
   "metadata": {},
   "source": [
    "In den Daten sind auch Tippfehler, die verbessert werden:"
   ]
  },
  {
   "cell_type": "code",
   "execution_count": 66,
   "metadata": {},
   "outputs": [],
   "source": [
    "df[\"Station\"] = df[\"Station\"].str.replace(\"Dortmumd\", \"Dortmund\")\n",
    "df[\"Station\"] = df[\"Station\"].str.replace(\"Mühlhein\", \"Mühlheim\")"
   ]
  },
  {
   "cell_type": "markdown",
   "metadata": {},
   "source": [
    "Bis auf die Spalte *Kategorie* sind nun alle Zeilen annährend vollständig gefüllt."
   ]
  },
  {
   "cell_type": "code",
   "execution_count": 26,
   "metadata": {},
   "outputs": [
    {
     "name": "stdout",
     "output_type": "stream",
     "text": [
      "<class 'pandas.core.frame.DataFrame'>\n",
      "Int64Index: 3537 entries, 0 to 3545\n",
      "Data columns (total 11 columns):\n",
      " #   Column                 Non-Null Count  Dtype         \n",
      "---  ------                 --------------  -----         \n",
      " 0   Jahr                   3537 non-null   int64         \n",
      " 1   Datum                  3537 non-null   datetime64[ns]\n",
      " 2   Station                3537 non-null   object        \n",
      " 3   Warnstufe              3532 non-null   float64       \n",
      " 4   Anlass                 3537 non-null   object        \n",
      " 5   Land                   3379 non-null   object        \n",
      " 6   Kategorie              2158 non-null   object        \n",
      " 7   Warnstufe_Bezeichnung  3532 non-null   object        \n",
      " 8   Monat                  3537 non-null   int64         \n",
      " 9   Wochentag              3537 non-null   int64         \n",
      " 10  Wochentag_Text         3537 non-null   object        \n",
      "dtypes: datetime64[ns](1), float64(1), int64(3), object(6)\n",
      "memory usage: 331.6+ KB\n"
     ]
    }
   ],
   "source": [
    "df.info()"
   ]
  },
  {
   "cell_type": "markdown",
   "metadata": {},
   "source": [
    "## Analysen"
   ]
  },
  {
   "cell_type": "markdown",
   "metadata": {},
   "source": [
    "### Meldungen pro Jahr\n",
    "Die Einträge sind über die Jahre nicht gleichverteilt. Die ersten drei Jahre entsprechen aggregiert ungefähr dem Jahr 2018. Eine Erklärung hierfür ist, dass Unwetterwarnungen des Deutschen Wetterdienstes erst ab 2018 über MoWaS verteilt werden."
   ]
  },
  {
   "cell_type": "code",
   "execution_count": 31,
   "metadata": {},
   "outputs": [
    {
     "data": {
      "text/plain": [
       "<matplotlib.axes._subplots.AxesSubplot at 0x7f0a29d31c10>"
      ]
     },
     "execution_count": 31,
     "metadata": {},
     "output_type": "execute_result"
    },
    {
     "data": {
      "image/png": "[encoded data removed]",
      "text/plain": [
       "<Figure size 720x288 with 1 Axes>"
      ]
     },
     "metadata": {
      "needs_background": "light"
     },
     "output_type": "display_data"
    }
   ],
   "source": [
    "plt.figure(figsize=(10,4))\n",
    "sns.countplot(x=\"Jahr\",data=df,color = \"deepskyblue\")"
   ]
  },
  {
   "cell_type": "markdown",
   "metadata": {},
   "source": [
    "### Meldungen pro Monat\n",
    "Vor allem in den letzten drei Jahren sind saisonale Schwankungen erkennbar."
   ]
  },
  {
   "cell_type": "code",
   "execution_count": 36,
   "metadata": {},
   "outputs": [
    {
     "data": {
      "text/plain": [
       "<seaborn.axisgrid.FacetGrid at 0x7f0a291296d0>"
      ]
     },
     "execution_count": 36,
     "metadata": {},
     "output_type": "execute_result"
    },
    {
     "data": {
      "image/png": "[encoded data removed]",
      "text/plain": [
       "<Figure size 1296x216 with 6 Axes>"
      ]
     },
     "metadata": {
      "needs_background": "light"
     },
     "output_type": "display_data"
    }
   ],
   "source": [
    "g = sns.FacetGrid(data=df, col=\"Jahr\")\n",
    "g.map(sns.countplot,\"Monat\",order=sorted(df[\"Monat\"].unique()))"
   ]
  },
  {
   "cell_type": "markdown",
   "metadata": {},
   "source": [
    "### Meldungen pro Wochentag\n",
    "Der Wochentag 0 entspricht einem Montag, 6 einem Sonntag. Über alle Jahre hinweg wurden sonntags die wenigsten Meldungen verschickt. Bis auf das Jahr 2020 ist Donnerstag (Tag 3) der häufigste Tag der Woche."
   ]
  },
  {
   "cell_type": "code",
   "execution_count": 37,
   "metadata": {},
   "outputs": [
    {
     "data": {
      "text/plain": [
       "<seaborn.axisgrid.FacetGrid at 0x7f0a28836430>"
      ]
     },
     "execution_count": 37,
     "metadata": {},
     "output_type": "execute_result"
    },
    {
     "data": {
      "image/png": "[encoded data removed]",
      "text/plain": [
       "<Figure size 1296x216 with 6 Axes>"
      ]
     },
     "metadata": {
      "needs_background": "light"
     },
     "output_type": "display_data"
    }
   ],
   "source": [
    "g = sns.FacetGrid(data=df, col=\"Jahr\")\n",
    "g.map(sns.countplot,\"Wochentag\")"
   ]
  },
  {
   "cell_type": "markdown",
   "metadata": {},
   "source": [
    "### Auslösende Stellen\n"
   ]
  },
  {
   "cell_type": "markdown",
   "metadata": {},
   "source": [
    "Die Berufsfeuerwehr in Reutlingen löst sehr oft eine Warnmeldung aus: 182 Mal im Datenzeitraum."
   ]
  },
  {
   "cell_type": "code",
   "execution_count": 39,
   "metadata": {},
   "outputs": [
    {
     "data": {
      "text/plain": [
       "BFW Reutlingen             92\n",
       "BFw Reutlingen S050        90\n",
       "ILS Kreis Soest S089       38\n",
       "LS Kreis Kleve             37\n",
       "ILS Kreis Soest            36\n",
       "ILS Kreis Viersen          36\n",
       "Kreis Storman              33\n",
       "FW Mönchengladbach S053    33\n",
       "LS Kreis Recklinghausen    32\n",
       "ILS Augsburg               32\n",
       "Name: Station, dtype: int64"
      ]
     },
     "execution_count": 39,
     "metadata": {},
     "output_type": "execute_result"
    }
   ],
   "source": [
    "df[\"Station\"].value_counts().head(10)"
   ]
  },
  {
   "cell_type": "markdown",
   "metadata": {},
   "source": [
    "Dabei ist Reutlingen mit zwei Namen erfasst. Anstatt der auslösenden Stelle ist es sinnvoller, die Stadt, in welcher sich die Stelle befindet, zu betrachten. Dazu erfolgt ein Matching der auslösenden Stellen zu Städten."
   ]
  },
  {
   "cell_type": "markdown",
   "metadata": {},
   "source": [
    "### Matching der Stationen zu Städten\n",
    "Die Ortsdaten sind von [Andrena Objects](https://github.com/andrena/java8-workshop/blob/master/demos/Liste-Staedte-in-Deutschland.csv)."
   ]
  },
  {
   "cell_type": "code",
   "execution_count": 49,
   "metadata": {
    "scrolled": true
   },
   "outputs": [],
   "source": [
    "city_data = pd.read_csv(\"../data/Cities.csv\",sep=\";\")"
   ]
  },
  {
   "cell_type": "code",
   "execution_count": 50,
   "metadata": {},
   "outputs": [],
   "source": [
    "staedte = list(city_data[\"Stadt\"].unique())"
   ]
  },
  {
   "cell_type": "markdown",
   "metadata": {},
   "source": [
    "Die Methode durchsucht die Stationsspalte nach einer Stadt, die in der Städteliste enthalten ist."
   ]
  },
  {
   "cell_type": "code",
   "execution_count": 52,
   "metadata": {},
   "outputs": [],
   "source": [
    "def extractCity(row, staedte):\n",
    "    candidates = re.split(\";|-|/|,| \",row[\"Station\"])\n",
    "\n",
    "    for candidate in candidates:\n",
    "        if candidate in staedte:\n",
    "            return candidate\n",
    "        \n",
    "        for stadt in staedte:\n",
    "            if candidate == stadt.split()[0]:\n",
    "                return stadt\n",
    "        \n",
    "    return None"
   ]
  },
  {
   "cell_type": "code",
   "execution_count": 67,
   "metadata": {},
   "outputs": [],
   "source": [
    "df[\"Stadt\"] = df.apply(lambda x : extractCity(x,staedte),axis=1)"
   ]
  },
  {
   "cell_type": "markdown",
   "metadata": {},
   "source": [
    "Für ca. 27% der Stationen konnte keine passende Stadt gefunden werden."
   ]
  },
  {
   "cell_type": "code",
   "execution_count": 90,
   "metadata": {},
   "outputs": [
    {
     "data": {
      "text/plain": [
       "0.2750918857789087"
      ]
     },
     "execution_count": 90,
     "metadata": {},
     "output_type": "execute_result"
    }
   ],
   "source": [
    "pd.isna(df[\"Stadt\"]).sum() / len(df)"
   ]
  },
  {
   "cell_type": "markdown",
   "metadata": {},
   "source": [
    "Grund hierfür ist, dass es sich bei den Stationen um regionale und nicht städtische Stellen handelt, die sowieso nicht verortet werden könnten. So hat z.B. der Kreis Stormarn (Tippfehler in den Daten) in Schleswig Holstein 33 Mal Meldungen ausgelöst. Um auch diese Stationen auf eine Karte zu bringen, wäre manueller Aufwand nötig."
   ]
  },
  {
   "cell_type": "code",
   "execution_count": 87,
   "metadata": {},
   "outputs": [
    {
     "data": {
      "text/plain": [
       "Station\n",
       "Kreis Storman               33\n",
       "KRLS Nord                   29\n",
       "ZRLS Kreis Weimarer Land    28\n",
       "ILS Saalekreis              26\n",
       "ILS Mittelbaden             25\n",
       "Name: Jahr, dtype: int64"
      ]
     },
     "execution_count": 87,
     "metadata": {},
     "output_type": "execute_result"
    }
   ],
   "source": [
    "df[pd.isna(df[\"Stadt\"])].groupby(\"Station\").count().sort_values(\"Jahr\",ascending=False).head(5)[\"Jahr\"]"
   ]
  },
  {
   "cell_type": "markdown",
   "metadata": {},
   "source": [
    "### Geokodieren der Städte\n",
    "Wir erstellen einen neuen DataFrame, welcher alle Städte enthält, sodass nur ein Request pro Stadt zum Geokodieren gemacht werden muss. Dabei wird zwischen zwei Request min. eine Sekunde gewartet."
   ]
  },
  {
   "cell_type": "code",
   "execution_count": 91,
   "metadata": {},
   "outputs": [],
   "source": [
    "staedte_geoc = df.groupby(\"Stadt\").count()[\"Datum\"].reset_index().rename(columns = {\"Datum\" : \"Meldungen\"})"
   ]
  },
  {
   "cell_type": "code",
   "execution_count": 92,
   "metadata": {},
   "outputs": [
    {
     "data": {
      "text/html": [
       "<div>\n",
       "<style scoped>\n",
       "    .dataframe tbody tr th:only-of-type {\n",
       "        vertical-align: middle;\n",
       "    }\n",
       "\n",
       "    .dataframe tbody tr th {\n",
       "        vertical-align: top;\n",
       "    }\n",
       "\n",
       "    .dataframe thead th {\n",
       "        text-align: right;\n",
       "    }\n",
       "</style>\n",
       "<table border=\"1\" class=\"dataframe\">\n",
       "  <thead>\n",
       "    <tr style=\"text-align: right;\">\n",
       "      <th></th>\n",
       "      <th>Stadt</th>\n",
       "      <th>Meldungen</th>\n",
       "    </tr>\n",
       "  </thead>\n",
       "  <tbody>\n",
       "    <tr>\n",
       "      <th>0</th>\n",
       "      <td>Aachen</td>\n",
       "      <td>40</td>\n",
       "    </tr>\n",
       "    <tr>\n",
       "      <th>1</th>\n",
       "      <td>Ansbach</td>\n",
       "      <td>3</td>\n",
       "    </tr>\n",
       "    <tr>\n",
       "      <th>2</th>\n",
       "      <td>Augsburg</td>\n",
       "      <td>45</td>\n",
       "    </tr>\n",
       "    <tr>\n",
       "      <th>3</th>\n",
       "      <td>Bad Salzuflen</td>\n",
       "      <td>7</td>\n",
       "    </tr>\n",
       "    <tr>\n",
       "      <th>4</th>\n",
       "      <td>Bamberg</td>\n",
       "      <td>9</td>\n",
       "    </tr>\n",
       "    <tr>\n",
       "      <th>...</th>\n",
       "      <td>...</td>\n",
       "      <td>...</td>\n",
       "    </tr>\n",
       "    <tr>\n",
       "      <th>131</th>\n",
       "      <td>Wittenberg</td>\n",
       "      <td>9</td>\n",
       "    </tr>\n",
       "    <tr>\n",
       "      <th>132</th>\n",
       "      <td>Wittmund</td>\n",
       "      <td>2</td>\n",
       "    </tr>\n",
       "    <tr>\n",
       "      <th>133</th>\n",
       "      <td>Wolfsburg</td>\n",
       "      <td>2</td>\n",
       "    </tr>\n",
       "    <tr>\n",
       "      <th>134</th>\n",
       "      <td>Würzburg</td>\n",
       "      <td>7</td>\n",
       "    </tr>\n",
       "    <tr>\n",
       "      <th>135</th>\n",
       "      <td>Zwickau</td>\n",
       "      <td>10</td>\n",
       "    </tr>\n",
       "  </tbody>\n",
       "</table>\n",
       "<p>136 rows × 2 columns</p>\n",
       "</div>"
      ],
      "text/plain": [
       "             Stadt  Meldungen\n",
       "0           Aachen         40\n",
       "1          Ansbach          3\n",
       "2         Augsburg         45\n",
       "3    Bad Salzuflen          7\n",
       "4          Bamberg          9\n",
       "..             ...        ...\n",
       "131     Wittenberg          9\n",
       "132       Wittmund          2\n",
       "133      Wolfsburg          2\n",
       "134       Würzburg          7\n",
       "135        Zwickau         10\n",
       "\n",
       "[136 rows x 2 columns]"
      ]
     },
     "execution_count": 92,
     "metadata": {},
     "output_type": "execute_result"
    }
   ],
   "source": [
    "staedte_geoc"
   ]
  },
  {
   "cell_type": "markdown",
   "metadata": {},
   "source": [
    "Die Geokodierung erfolgt mithilfe der Bibliothek [GeoPy](https://geopy.readthedocs.io/en/stable/), mithilfe welcher verschiedene Geocoder angesprochen werden können. In diesem Fall verwenden wir Nominatim für OpenStreetMap Daten."
   ]
  },
  {
   "cell_type": "code",
   "execution_count": 93,
   "metadata": {},
   "outputs": [],
   "source": [
    "locator = Nominatim(user_agent=\"nina\")\n",
    "geocode = RateLimiter(locator.geocode, min_delay_seconds=1)\n",
    "\n",
    "staedte_geoc[\"Location\"] = staedte_geoc[\"Stadt\"].apply(geocode)"
   ]
  },
  {
   "cell_type": "markdown",
   "metadata": {},
   "source": [
    "Die Spalte *Location* wird in zwei Spalten, welche Breitengrad (*Latitude*) und Längengrad (*Longitude*) enthalten, aufgesplittet."
   ]
  },
  {
   "cell_type": "code",
   "execution_count": 94,
   "metadata": {},
   "outputs": [],
   "source": [
    "staedte_geoc[[\"Latitude\", \"Longitude\"]] = pd.DataFrame(staedte_geoc[\"Location\"].apply(lambda x: tuple(x.point)[:2]).to_list(), index = staedte_geoc.index)"
   ]
  },
  {
   "cell_type": "code",
   "execution_count": 95,
   "metadata": {},
   "outputs": [
    {
     "data": {
      "text/html": [
       "<div>\n",
       "<style scoped>\n",
       "    .dataframe tbody tr th:only-of-type {\n",
       "        vertical-align: middle;\n",
       "    }\n",
       "\n",
       "    .dataframe tbody tr th {\n",
       "        vertical-align: top;\n",
       "    }\n",
       "\n",
       "    .dataframe thead th {\n",
       "        text-align: right;\n",
       "    }\n",
       "</style>\n",
       "<table border=\"1\" class=\"dataframe\">\n",
       "  <thead>\n",
       "    <tr style=\"text-align: right;\">\n",
       "      <th></th>\n",
       "      <th>Stadt</th>\n",
       "      <th>Meldungen</th>\n",
       "      <th>Location</th>\n",
       "      <th>Latitude</th>\n",
       "      <th>Longitude</th>\n",
       "    </tr>\n",
       "  </thead>\n",
       "  <tbody>\n",
       "    <tr>\n",
       "      <th>0</th>\n",
       "      <td>Aachen</td>\n",
       "      <td>40</td>\n",
       "      <td>(Aachen, Städteregion Aachen, Nordrhein-Westfa...</td>\n",
       "      <td>50.776351</td>\n",
       "      <td>6.083862</td>\n",
       "    </tr>\n",
       "    <tr>\n",
       "      <th>1</th>\n",
       "      <td>Ansbach</td>\n",
       "      <td>3</td>\n",
       "      <td>(Ansbach, Bayern, 91522, Deutschland, (49.3028...</td>\n",
       "      <td>49.302861</td>\n",
       "      <td>10.572229</td>\n",
       "    </tr>\n",
       "    <tr>\n",
       "      <th>2</th>\n",
       "      <td>Augsburg</td>\n",
       "      <td>45</td>\n",
       "      <td>(Augsburg, Bayern, 86150, Deutschland, (48.366...</td>\n",
       "      <td>48.366804</td>\n",
       "      <td>10.898697</td>\n",
       "    </tr>\n",
       "    <tr>\n",
       "      <th>3</th>\n",
       "      <td>Bad Salzuflen</td>\n",
       "      <td>7</td>\n",
       "      <td>(Bad Salzuflen, Kreis Lippe, Nordrhein-Westfal...</td>\n",
       "      <td>52.085745</td>\n",
       "      <td>8.753442</td>\n",
       "    </tr>\n",
       "    <tr>\n",
       "      <th>4</th>\n",
       "      <td>Bamberg</td>\n",
       "      <td>9</td>\n",
       "      <td>(Bamberg, Bayern, Deutschland, (49.8916044, 10...</td>\n",
       "      <td>49.891604</td>\n",
       "      <td>10.886848</td>\n",
       "    </tr>\n",
       "  </tbody>\n",
       "</table>\n",
       "</div>"
      ],
      "text/plain": [
       "           Stadt  Meldungen  \\\n",
       "0         Aachen         40   \n",
       "1        Ansbach          3   \n",
       "2       Augsburg         45   \n",
       "3  Bad Salzuflen          7   \n",
       "4        Bamberg          9   \n",
       "\n",
       "                                            Location   Latitude  Longitude  \n",
       "0  (Aachen, Städteregion Aachen, Nordrhein-Westfa...  50.776351   6.083862  \n",
       "1  (Ansbach, Bayern, 91522, Deutschland, (49.3028...  49.302861  10.572229  \n",
       "2  (Augsburg, Bayern, 86150, Deutschland, (48.366...  48.366804  10.898697  \n",
       "3  (Bad Salzuflen, Kreis Lippe, Nordrhein-Westfal...  52.085745   8.753442  \n",
       "4  (Bamberg, Bayern, Deutschland, (49.8916044, 10...  49.891604  10.886848  "
      ]
     },
     "execution_count": 95,
     "metadata": {},
     "output_type": "execute_result"
    }
   ],
   "source": [
    "staedte_geoc.head()"
   ]
  }
 ],
 "metadata": {
  "kernelspec": {
   "display_name": "Python 3",
   "language": "python",
   "name": "python3"
  },
  "language_info": {
   "codemirror_mode": {
    "name": "ipython",
    "version": 3
   },
   "file_extension": ".py",
   "mimetype": "text/x-python",
   "name": "python",
   "nbconvert_exporter": "python",
   "pygments_lexer": "ipython3",
   "version": "3.8.3"
  }
 },
 "nbformat": 4,
 "nbformat_minor": 4
}
